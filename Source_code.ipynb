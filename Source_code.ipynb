{
  "nbformat": 4,
  "nbformat_minor": 0,
  "metadata": {
    "colab": {
      "name": "Source_codeNLP.ipynb",
      "provenance": [],
      "collapsed_sections": [],
      "toc_visible": true
    },
    "kernelspec": {
      "name": "python3",
      "display_name": "Python 3"
    },
    "accelerator": "GPU"
  },
  "cells": [
    {
      "cell_type": "markdown",
      "metadata": {
        "id": "VkZ7kW2IB89H",
        "colab_type": "text"
      },
      "source": [
        "#Model 1 Học máy"
      ]
    },
    {
      "cell_type": "markdown",
      "metadata": {
        "id": "NjKXn20hSkOG",
        "colab_type": "text"
      },
      "source": [
        "#Import thư viện"
      ]
    },
    {
      "cell_type": "code",
      "metadata": {
        "id": "437WUvVmN7Vs",
        "colab_type": "code",
        "colab": {}
      },
      "source": [
        "import pandas as pd\n",
        "from sklearn.feature_extraction.text import CountVectorizer,TfidfTransformer\n",
        "from sklearn.metrics import accuracy_score, classification_report\n",
        "import nltk\n",
        "import numpy as np\n",
        "import matplotlib.pyplot as plt"
      ],
      "execution_count": 1,
      "outputs": []
    },
    {
      "cell_type": "markdown",
      "metadata": {
        "id": "z6HoYKepSqZw",
        "colab_type": "text"
      },
      "source": [
        "#Đọc dữ liệu từ file exel"
      ]
    },
    {
      "cell_type": "code",
      "metadata": {
        "id": "ND182g7_1EDm",
        "colab_type": "code",
        "colab": {
          "base_uri": "https://localhost:8080/",
          "height": 124
        },
        "outputId": "170df809-8f36-4554-b219-dde00c93a8aa"
      },
      "source": [
        "import os\n",
        "os.chdir('/content')\n",
        "!git clone https://github.com/NguyenXuanVinh2000/NLP-Classifcation"
      ],
      "execution_count": 2,
      "outputs": [
        {
          "output_type": "stream",
          "text": [
            "Cloning into 'NLP-Classifcation'...\n",
            "remote: Enumerating objects: 20, done.\u001b[K\n",
            "remote: Counting objects: 100% (20/20), done.\u001b[K\n",
            "remote: Compressing objects: 100% (19/19), done.\u001b[K\n",
            "remote: Total 20 (delta 1), reused 9 (delta 0), pack-reused 0\u001b[K\n",
            "Unpacking objects: 100% (20/20), done.\n"
          ],
          "name": "stdout"
        }
      ]
    },
    {
      "cell_type": "code",
      "metadata": {
        "id": "CC00-S2bOT5y",
        "colab_type": "code",
        "colab": {}
      },
      "source": [
        "xl1 = pd.ExcelFile('/content/NLP-Classifcation/UIT-VSMEC/train_nor_811.xlsx')\n",
        "df_train = pd.read_excel(xl1, 0)\n",
        "xl2 = pd.ExcelFile('/content/NLP-Classifcation/UIT-VSMEC/test_nor_811.xlsx')\n",
        "df_test = pd.read_excel(xl2, 0 )\n",
        "xl3 = pd.ExcelFile('/content/NLP-Classifcation/UIT-VSMEC/valid_nor_811.xlsx')\n",
        "df_valid = pd.read_excel(xl3, 0 )"
      ],
      "execution_count": 3,
      "outputs": []
    },
    {
      "cell_type": "markdown",
      "metadata": {
        "id": "kQZaDBPGSue-",
        "colab_type": "text"
      },
      "source": [
        "#Phân chia biến độc lập X và biến phụ thuộc y"
      ]
    },
    {
      "cell_type": "code",
      "metadata": {
        "id": "yy4k7X77raOm",
        "colab_type": "code",
        "colab": {}
      },
      "source": [
        "X_train = df_train[\"Sentence\"]\n",
        "X_val = df_valid[\"Sentence\"]\n",
        "X_test = df_test[\"Sentence\"]\n",
        "y_train = df_train[\"Emotion\"]\n",
        "y_val = df_valid[\"Emotion\"]\n",
        "y_test = df_test[\"Emotion\"]"
      ],
      "execution_count": 4,
      "outputs": []
    },
    {
      "cell_type": "code",
      "metadata": {
        "id": "YH8tvoNbHP27",
        "colab_type": "code",
        "colab": {
          "base_uri": "https://localhost:8080/",
          "height": 159
        },
        "outputId": "a94cdaff-0710-494c-bdf2-bc43e5c9502a"
      },
      "source": [
        "print(y_train.value_counts())"
      ],
      "execution_count": 5,
      "outputs": [
        {
          "output_type": "stream",
          "text": [
            "Enjoyment    1558\n",
            "Disgust      1071\n",
            "Other        1021\n",
            "Sadness       947\n",
            "Anger         391\n",
            "Fear          318\n",
            "Surprise      242\n",
            "Name: Emotion, dtype: int64\n"
          ],
          "name": "stdout"
        }
      ]
    },
    {
      "cell_type": "code",
      "metadata": {
        "id": "gXLZwwHsH-4g",
        "colab_type": "code",
        "colab": {
          "base_uri": "https://localhost:8080/",
          "height": 159
        },
        "outputId": "48066779-0dc0-4b3f-f66e-fe60faaa8b73"
      },
      "source": [
        "print(y_test.value_counts())"
      ],
      "execution_count": 6,
      "outputs": [
        {
          "output_type": "stream",
          "text": [
            "Enjoyment    193\n",
            "Disgust      132\n",
            "Other        129\n",
            "Sadness      116\n",
            "Fear          46\n",
            "Anger         40\n",
            "Surprise      37\n",
            "Name: Emotion, dtype: int64\n"
          ],
          "name": "stdout"
        }
      ]
    },
    {
      "cell_type": "code",
      "metadata": {
        "id": "ijvf2TMQH_MY",
        "colab_type": "code",
        "colab": {
          "base_uri": "https://localhost:8080/",
          "height": 159
        },
        "outputId": "23709e13-6e54-49bf-b982-4d4fb65584da"
      },
      "source": [
        "print(y_val.value_counts())"
      ],
      "execution_count": 7,
      "outputs": [
        {
          "output_type": "stream",
          "text": [
            "Enjoyment    214\n",
            "Other        141\n",
            "Disgust      135\n",
            "Sadness       86\n",
            "Anger         49\n",
            "Fear          31\n",
            "Surprise      30\n",
            "Name: Emotion, dtype: int64\n"
          ],
          "name": "stdout"
        }
      ]
    },
    {
      "cell_type": "markdown",
      "metadata": {
        "id": "mDD1kZS_USQU",
        "colab_type": "text"
      },
      "source": [
        "#Phân bố các nhãn của bình luận"
      ]
    },
    {
      "cell_type": "code",
      "metadata": {
        "id": "PUvmUSqiZMCr",
        "colab_type": "code",
        "colab": {
          "base_uri": "https://localhost:8080/",
          "height": 1000
        },
        "outputId": "9ee8ef10-551e-4843-e5c3-cc177c6ecb10"
      },
      "source": [
        "plt.figure(figsize=(10,20))\n",
        "plt.subplot(311)\n",
        "y_train.value_counts().plot(kind='bar')\n",
        "plt.title('so luong binh luan thuoc tung cam xuc tren tap train')\n",
        "plt.xlabel('label')\n",
        "plt.ylabel('so luong')\n",
        "\n",
        "plt.subplot(312)\n",
        "y_val.value_counts().plot(kind='bar')\n",
        "plt.title('so luong binh luan thuoc tung cam xuc tren tap valid')\n",
        "plt.xlabel('label')\n",
        "plt.ylabel('so luong')\n",
        "\n",
        "plt.subplot(313)\n",
        "y_test.value_counts().plot(kind='bar')\n",
        "plt.title('so luong binh luan thuoc tung cam xuc tren tap test')\n",
        "plt.xlabel('label')\n",
        "plt.ylabel('so luong')"
      ],
      "execution_count": 8,
      "outputs": [
        {
          "output_type": "execute_result",
          "data": {
            "text/plain": [
              "Text(0, 0.5, 'so luong')"
            ]
          },
          "metadata": {
            "tags": []
          },
          "execution_count": 8
        },
        {
          "output_type": "display_data",
          "data": {
            "image/png": "[encoded data removed]",
            "text/plain": [
              "<Figure size 720x1440 with 3 Axes>"
            ]
          },
          "metadata": {
            "tags": [],
            "needs_background": "light"
          }
        }
      ]
    },
    {
      "cell_type": "markdown",
      "metadata": {
        "id": "KbIygTADS450",
        "colab_type": "text"
      },
      "source": [
        "#Đánh số cho các nhãn có dạng “không ở dạng số”"
      ]
    },
    {
      "cell_type": "code",
      "metadata": {
        "id": "P8vi0_Donk17",
        "colab_type": "code",
        "colab": {}
      },
      "source": [
        "from sklearn.preprocessing import LabelEncoder\n",
        "le = LabelEncoder()\n",
        "y_train = le.fit_transform(y_train)\n",
        "y_val = le.transform(y_val)\n",
        "y_test = le.transform(y_test)"
      ],
      "execution_count": 9,
      "outputs": []
    },
    {
      "cell_type": "markdown",
      "metadata": {
        "id": "jN-44a7_Tk4k",
        "colab_type": "text"
      },
      "source": [
        "#Huấn luyện model Naive Bayes"
      ]
    },
    {
      "cell_type": "code",
      "metadata": {
        "id": "UPTlmExw68iM",
        "colab_type": "code",
        "colab": {
          "base_uri": "https://localhost:8080/",
          "height": 357
        },
        "outputId": "0f68d5aa-fb12-4fcf-b26e-ea7b5bbe4592"
      },
      "source": [
        "my_tags =['0','1','2','3','4','5','6']\n",
        "from sklearn.naive_bayes import MultinomialNB\n",
        "from sklearn.pipeline import Pipeline\n",
        "model = Pipeline([('vect', CountVectorizer()),('tfidf', TfidfTransformer()),('clf', MultinomialNB()),])\n",
        "model.fit(X_train,y_train)\n",
        "from sklearn.metrics import classification_report\n",
        "y_pred = model.predict(X_test)\n",
        "val_pred = model.predict(X_val)\n",
        "print('accuracy %s' % accuracy_score(y_test, y_pred))\n",
        "print('accuracy valid %s' % accuracy_score(y_val, val_pred))\n",
        "print(classification_report(y_test, y_pred,target_names=my_tags))"
      ],
      "execution_count": 10,
      "outputs": [
        {
          "output_type": "stream",
          "text": [
            "accuracy 0.4531024531024531\n",
            "accuracy valid 0.47959183673469385\n",
            "              precision    recall  f1-score   support\n",
            "\n",
            "           0       0.00      0.00      0.00        40\n",
            "           1       0.47      0.56      0.51       132\n",
            "           2       0.41      0.86      0.56       193\n",
            "           3       0.00      0.00      0.00        46\n",
            "           4       0.49      0.29      0.36       129\n",
            "           5       0.65      0.32      0.43       116\n",
            "           6       0.00      0.00      0.00        37\n",
            "\n",
            "    accuracy                           0.45       693\n",
            "   macro avg       0.29      0.29      0.27       693\n",
            "weighted avg       0.40      0.45      0.39       693\n",
            "\n"
          ],
          "name": "stdout"
        },
        {
          "output_type": "stream",
          "text": [
            "/usr/local/lib/python3.6/dist-packages/sklearn/metrics/_classification.py:1272: UndefinedMetricWarning: Precision and F-score are ill-defined and being set to 0.0 in labels with no predicted samples. Use `zero_division` parameter to control this behavior.\n",
            "  _warn_prf(average, modifier, msg_start, len(result))\n"
          ],
          "name": "stderr"
        }
      ]
    },
    {
      "cell_type": "markdown",
      "metadata": {
        "id": "mcO7_qvGTxMs",
        "colab_type": "text"
      },
      "source": [
        "#Huấn luyện model Support Vector Machine"
      ]
    },
    {
      "cell_type": "code",
      "metadata": {
        "id": "4nXyj3_26teF",
        "colab_type": "code",
        "colab": {
          "base_uri": "https://localhost:8080/",
          "height": 301
        },
        "outputId": "2937a1d9-72c8-4fb0-dc7a-24b8da9e1fd6"
      },
      "source": [
        "my_tags =['0','1','2','3','4','5','6']\n",
        "from sklearn.svm import SVC\n",
        "from sklearn.pipeline import Pipeline\n",
        "model = Pipeline([('vect', CountVectorizer()),('tfidf', TfidfTransformer()),('clf', SVC()),])\n",
        "model.fit(X_train,y_train)\n",
        "from sklearn.metrics import classification_report\n",
        "y_pred = model.predict(X_test)\n",
        "val_pred = model.predict(X_val)\n",
        "print('accuracy %s' % accuracy_score(y_test, y_pred))\n",
        "print('accuracy valid %s' % accuracy_score(y_val, val_pred))\n",
        "print(classification_report(y_test, y_pred,target_names=my_tags))"
      ],
      "execution_count": 11,
      "outputs": [
        {
          "output_type": "stream",
          "text": [
            "accuracy 0.5367965367965368\n",
            "accuracy valid 0.5349854227405247\n",
            "              precision    recall  f1-score   support\n",
            "\n",
            "           0       0.54      0.17      0.26        40\n",
            "           1       0.51      0.64      0.56       132\n",
            "           2       0.51      0.73      0.60       193\n",
            "           3       0.91      0.46      0.61        46\n",
            "           4       0.47      0.47      0.47       129\n",
            "           5       0.65      0.47      0.55       116\n",
            "           6       0.83      0.14      0.23        37\n",
            "\n",
            "    accuracy                           0.54       693\n",
            "   macro avg       0.63      0.44      0.47       693\n",
            "weighted avg       0.57      0.54      0.52       693\n",
            "\n"
          ],
          "name": "stdout"
        }
      ]
    },
    {
      "cell_type": "markdown",
      "metadata": {
        "id": "x8YhgsRsCBxY",
        "colab_type": "text"
      },
      "source": [
        "#Model 2 Thuật toán học sâu"
      ]
    },
    {
      "cell_type": "markdown",
      "metadata": {
        "id": "nzOsToM4SS1R",
        "colab_type": "text"
      },
      "source": [
        "#Import thư viện"
      ]
    },
    {
      "cell_type": "code",
      "metadata": {
        "id": "6sBBk9phCF3p",
        "colab_type": "code",
        "colab": {}
      },
      "source": [
        "import numpy as np\n",
        "import pandas as pd\n",
        "from keras.layers import Dense, Input, LSTM, Bidirectional, Conv1D\n",
        "from keras.layers import Dropout, Embedding\n",
        "from keras.preprocessing import text, sequence\n",
        "from keras.layers import GlobalMaxPooling1D, GlobalAveragePooling1D, concatenate, SpatialDropout1D\n",
        "from keras.models import Model\n",
        "from keras import backend as K\n",
        "from keras.models import model_from_json\n",
        "from keras.models import load_model\n",
        "import matplotlib.pyplot as plt"
      ],
      "execution_count": 43,
      "outputs": []
    },
    {
      "cell_type": "markdown",
      "metadata": {
        "id": "5c49qQ3WSWRk",
        "colab_type": "text"
      },
      "source": [
        "#Đọc dữ liệu"
      ]
    },
    {
      "cell_type": "code",
      "metadata": {
        "id": "kn3NNvawFJKT",
        "colab_type": "code",
        "colab": {}
      },
      "source": [
        "X_train = df_train[\"Sentence\"]\n",
        "X_val = df_valid[\"Sentence\"]\n",
        "X_test = df_test[\"Sentence\"]\n",
        "y_train = df_train[\"Emotion\"]\n",
        "y_val = df_valid[\"Emotion\"]\n",
        "y_test = df_test[\"Emotion\"]"
      ],
      "execution_count": 44,
      "outputs": []
    },
    {
      "cell_type": "markdown",
      "metadata": {
        "id": "vVv1gqsaSZc9",
        "colab_type": "text"
      },
      "source": [
        "# Tải model Pretrained model Word2Vec"
      ]
    },
    {
      "cell_type": "code",
      "metadata": {
        "id": "oHCgUHdkCm8B",
        "colab_type": "code",
        "colab": {
          "base_uri": "https://localhost:8080/",
          "height": 35
        },
        "outputId": "1972f680-9930-4b68-e7b4-c4d682d330cb"
      },
      "source": [
        "import requests\n",
        "url='https://dl.fbaipublicfiles.com/fasttext/vectors-crawl/cc.vi.300.vec.gz'\n",
        "r = requests.get(url, allow_redirects=True)\n",
        "\n",
        "open('cc.vi.300.vec.gz','wb').write(r.content)"
      ],
      "execution_count": 14,
      "outputs": [
        {
          "output_type": "execute_result",
          "data": {
            "text/plain": [
              "1235219084"
            ]
          },
          "metadata": {
            "tags": []
          },
          "execution_count": 14
        }
      ]
    },
    {
      "cell_type": "markdown",
      "metadata": {
        "id": "cEfrU5gqSdXd",
        "colab_type": "text"
      },
      "source": [
        "# extract file gzip chứa model Word2Vec"
      ]
    },
    {
      "cell_type": "code",
      "metadata": {
        "id": "PuLridh2CpFQ",
        "colab_type": "code",
        "colab": {}
      },
      "source": [
        "import gzip\n",
        "\n",
        "def gunzip(source_filepath, dest_filepath, block_size=65536):\n",
        "    with gzip.open(source_filepath, 'rb') as s_file, \\\n",
        "            open(dest_filepath, 'wb') as d_file:\n",
        "        while True:\n",
        "            block = s_file.read(block_size)\n",
        "            if not block:\n",
        "                break\n",
        "            else:\n",
        "                d_file.write(block)\n",
        "gunzip('/content/cc.vi.300.vec.gz','/content/cc.vi.300.vec')"
      ],
      "execution_count": 15,
      "outputs": []
    },
    {
      "cell_type": "code",
      "metadata": {
        "id": "BjVFZhMuCq1I",
        "colab_type": "code",
        "colab": {}
      },
      "source": [
        "EMBEDDING_FILE = '/content/cc.vi.300.vec'"
      ],
      "execution_count": 45,
      "outputs": []
    },
    {
      "cell_type": "code",
      "metadata": {
        "id": "VI9LH9_FNU2o",
        "colab_type": "code",
        "colab": {}
      },
      "source": [
        "y_train=pd.get_dummies(data=y_train)\n",
        "y_val=pd.get_dummies(data=y_val)\n",
        "y_test=pd.get_dummies(data=y_test)"
      ],
      "execution_count": 46,
      "outputs": []
    },
    {
      "cell_type": "code",
      "metadata": {
        "id": "_B13llk6QuKj",
        "colab_type": "code",
        "colab": {
          "base_uri": "https://localhost:8080/",
          "height": 194
        },
        "outputId": "3bd065a8-f643-457d-fd9c-5bda3d30d513"
      },
      "source": [
        "y_train.head(5)"
      ],
      "execution_count": 47,
      "outputs": [
        {
          "output_type": "execute_result",
          "data": {
            "text/html": [
              "<div>\n",
              "<style scoped>\n",
              "    .dataframe tbody tr th:only-of-type {\n",
              "        vertical-align: middle;\n",
              "    }\n",
              "\n",
              "    .dataframe tbody tr th {\n",
              "        vertical-align: top;\n",
              "    }\n",
              "\n",
              "    .dataframe thead th {\n",
              "        text-align: right;\n",
              "    }\n",
              "</style>\n",
              "<table border=\"1\" class=\"dataframe\">\n",
              "  <thead>\n",
              "    <tr style=\"text-align: right;\">\n",
              "      <th></th>\n",
              "      <th>Anger</th>\n",
              "      <th>Disgust</th>\n",
              "      <th>Enjoyment</th>\n",
              "      <th>Fear</th>\n",
              "      <th>Other</th>\n",
              "      <th>Sadness</th>\n",
              "      <th>Surprise</th>\n",
              "    </tr>\n",
              "  </thead>\n",
              "  <tbody>\n",
              "    <tr>\n",
              "      <th>0</th>\n",
              "      <td>0</td>\n",
              "      <td>0</td>\n",
              "      <td>0</td>\n",
              "      <td>0</td>\n",
              "      <td>1</td>\n",
              "      <td>0</td>\n",
              "      <td>0</td>\n",
              "    </tr>\n",
              "    <tr>\n",
              "      <th>1</th>\n",
              "      <td>0</td>\n",
              "      <td>1</td>\n",
              "      <td>0</td>\n",
              "      <td>0</td>\n",
              "      <td>0</td>\n",
              "      <td>0</td>\n",
              "      <td>0</td>\n",
              "    </tr>\n",
              "    <tr>\n",
              "      <th>2</th>\n",
              "      <td>0</td>\n",
              "      <td>1</td>\n",
              "      <td>0</td>\n",
              "      <td>0</td>\n",
              "      <td>0</td>\n",
              "      <td>0</td>\n",
              "      <td>0</td>\n",
              "    </tr>\n",
              "    <tr>\n",
              "      <th>3</th>\n",
              "      <td>0</td>\n",
              "      <td>0</td>\n",
              "      <td>1</td>\n",
              "      <td>0</td>\n",
              "      <td>0</td>\n",
              "      <td>0</td>\n",
              "      <td>0</td>\n",
              "    </tr>\n",
              "    <tr>\n",
              "      <th>4</th>\n",
              "      <td>0</td>\n",
              "      <td>0</td>\n",
              "      <td>1</td>\n",
              "      <td>0</td>\n",
              "      <td>0</td>\n",
              "      <td>0</td>\n",
              "      <td>0</td>\n",
              "    </tr>\n",
              "  </tbody>\n",
              "</table>\n",
              "</div>"
            ],
            "text/plain": [
              "   Anger  Disgust  Enjoyment  Fear  Other  Sadness  Surprise\n",
              "0      0        0          0     0      1        0         0\n",
              "1      0        1          0     0      0        0         0\n",
              "2      0        1          0     0      0        0         0\n",
              "3      0        0          1     0      0        0         0\n",
              "4      0        0          1     0      0        0         0"
            ]
          },
          "metadata": {
            "tags": []
          },
          "execution_count": 47
        }
      ]
    },
    {
      "cell_type": "markdown",
      "metadata": {
        "id": "RpcJRLMeSg7-",
        "colab_type": "text"
      },
      "source": [
        "# Tiền xử lý dữ liệu"
      ]
    },
    {
      "cell_type": "code",
      "metadata": {
        "id": "DqkUs4mJC1ub",
        "colab_type": "code",
        "colab": {}
      },
      "source": [
        "max_features=2489\n",
        "maxlen=150\n",
        "embed_size=300"
      ],
      "execution_count": 48,
      "outputs": []
    },
    {
      "cell_type": "code",
      "metadata": {
        "id": "Vq6JuBa0C2MY",
        "colab_type": "code",
        "colab": {}
      },
      "source": [
        "tokenizer = text.Tokenizer(num_words=max_features, lower=True, filters='!\"#$%&()*+,-./:;<=>?@[\\\\]^`{|}~\\t\\n')\n",
        "tokenizer.fit_on_texts(list(X_train))"
      ],
      "execution_count": 49,
      "outputs": []
    },
    {
      "cell_type": "code",
      "metadata": {
        "id": "J_J9G8ItC3eZ",
        "colab_type": "code",
        "colab": {}
      },
      "source": [
        "X_train = tokenizer.texts_to_sequences(X_train)\n",
        "X_test = tokenizer.texts_to_sequences(X_test)\n",
        "X_val = tokenizer.texts_to_sequences(X_val)"
      ],
      "execution_count": 50,
      "outputs": []
    },
    {
      "cell_type": "code",
      "metadata": {
        "id": "uKtwUG8TC5qA",
        "colab_type": "code",
        "colab": {
          "base_uri": "https://localhost:8080/",
          "height": 35
        },
        "outputId": "ec826a75-2caa-4bc4-f101-49aa7fbabadf"
      },
      "source": [
        "X_train = sequence.pad_sequences(X_train, maxlen=maxlen)\n",
        "X_test = sequence.pad_sequences(X_test, maxlen=maxlen)\n",
        "X_val = sequence.pad_sequences(X_val, maxlen=maxlen)\n",
        "print(\"create vector\")"
      ],
      "execution_count": 51,
      "outputs": [
        {
          "output_type": "stream",
          "text": [
            "create vector\n"
          ],
          "name": "stdout"
        }
      ]
    },
    {
      "cell_type": "code",
      "metadata": {
        "id": "m4po3RgCC7Fi",
        "colab_type": "code",
        "colab": {}
      },
      "source": [
        "embeddings_index = {}\n",
        "with open(EMBEDDING_FILE, encoding='utf8') as f:\n",
        "    for line in f:\n",
        "        values = line.rstrip().rsplit(' ')\n",
        "        word = values[0]\n",
        "        coefs = np.asarray(values[1:], dtype='float32')\n",
        "        embeddings_index[word] = coefs\n",
        "\n",
        "word_index = tokenizer.word_index\n",
        "num_words = min(max_features, len(word_index) + 1)\n",
        "embedding_matrix = np.zeros((num_words, embed_size))"
      ],
      "execution_count": 52,
      "outputs": []
    },
    {
      "cell_type": "code",
      "metadata": {
        "id": "1uQYK_GKC8n4",
        "colab_type": "code",
        "colab": {}
      },
      "source": [
        "for word, i in word_index.items():\n",
        "    if i >= max_features:\n",
        "        continue\n",
        "  \n",
        "    embedding_vector = embeddings_index.get(word)\n",
        "    if embedding_vector is not None:\n",
        "        embedding_matrix[i] = embedding_vector"
      ],
      "execution_count": 53,
      "outputs": []
    },
    {
      "cell_type": "code",
      "metadata": {
        "id": "DOEQy9GiC-GJ",
        "colab_type": "code",
        "colab": {}
      },
      "source": [
        "def recall_m(y_true, y_pred):\n",
        "    true_positives = K.sum(K.round(K.clip(y_true * y_pred, 0, 1)))\n",
        "    possible_positives = K.sum(K.round(K.clip(y_true, 0, 1)))\n",
        "    recall = true_positives / (possible_positives + K.epsilon())\n",
        "    return recall\n",
        "\n",
        "def precision_m(y_true, y_pred):\n",
        "    true_positives = K.sum(K.round(K.clip(y_true * y_pred, 0, 1)))\n",
        "    predicted_positives = K.sum(K.round(K.clip(y_pred, 0, 1)))\n",
        "    precision = true_positives / (predicted_positives + K.epsilon())\n",
        "    return precision\n",
        "\n",
        "def f1_m(y_true, y_pred):\n",
        "    precision = precision_m(y_true, y_pred)\n",
        "    recall = recall_m(y_true, y_pred)\n",
        "    return 2*((precision*recall)/(precision+recall+K.epsilon()))"
      ],
      "execution_count": 54,
      "outputs": []
    },
    {
      "cell_type": "markdown",
      "metadata": {
        "id": "UJXa-oT8SvQ-",
        "colab_type": "text"
      },
      "source": [
        "# Tạo và training model với Bi-LSTM"
      ]
    },
    {
      "cell_type": "code",
      "metadata": {
        "id": "-G1Q3VxWC_1h",
        "colab_type": "code",
        "colab": {}
      },
      "source": [
        "inp = Input(shape=(maxlen,))\n",
        "\n",
        "x = Embedding(max_features, embed_size, weights=[embedding_matrix], trainable=True)(inp)\n",
        "x = SpatialDropout1D(0.35)(x)\n",
        "\n",
        "x = Bidirectional(LSTM(128, return_sequences=True, dropout=0.15, recurrent_dropout=0.15))(x)\n",
        "x = Conv1D(64, kernel_size=3, padding='valid', kernel_initializer='glorot_uniform')(x)\n",
        "\n",
        "avg_pool = GlobalAveragePooling1D()(x)\n",
        "max_pool = GlobalMaxPooling1D()(x)\n",
        "x = concatenate([avg_pool, max_pool])\n",
        "\n",
        "out = Dense(7, activation='sigmoid')(x)\n",
        "\n",
        "model = Model(inp, out)\n",
        "model.compile(optimizer='adam', loss='binary_crossentropy', metrics=['acc',f1_m,precision_m, recall_m])"
      ],
      "execution_count": 55,
      "outputs": []
    },
    {
      "cell_type": "code",
      "metadata": {
        "id": "uuKOK8wlDBuT",
        "colab_type": "code",
        "colab": {
          "base_uri": "https://localhost:8080/",
          "height": 286
        },
        "outputId": "65a79c18-c8bb-43ec-8bc7-b9b4a19c25b4"
      },
      "source": [
        "batch_size = 32\n",
        "epochs =5\n",
        "\n",
        "history = model.fit(X_train, y_train, validation_data=(X_val, y_val), batch_size=batch_size, epochs=epochs, verbose=1)\n",
        "predictions = model.predict(X_test, batch_size=batch_size, verbose=1)"
      ],
      "execution_count": 56,
      "outputs": [
        {
          "output_type": "stream",
          "text": [
            "/usr/local/lib/python3.6/dist-packages/tensorflow/python/framework/indexed_slices.py:434: UserWarning: Converting sparse IndexedSlices to a dense Tensor of unknown shape. This may consume a large amount of memory.\n",
            "  \"Converting sparse IndexedSlices to a dense Tensor of unknown shape. \"\n"
          ],
          "name": "stderr"
        },
        {
          "output_type": "stream",
          "text": [
            "Train on 5548 samples, validate on 686 samples\n",
            "Epoch 1/5\n",
            "5548/5548 [==============================] - 105s 19ms/step - loss: 0.3757 - acc: 0.8554 - f1_m: 0.0626 - precision_m: 0.2207 - recall_m: 0.0429 - val_loss: 0.3144 - val_acc: 0.8746 - val_f1_m: 0.3278 - val_precision_m: 0.6955 - val_recall_m: 0.2185\n",
            "Epoch 2/5\n",
            "5548/5548 [==============================] - 103s 19ms/step - loss: 0.2849 - acc: 0.8826 - f1_m: 0.4344 - precision_m: 0.6968 - recall_m: 0.3236 - val_loss: 0.2726 - val_acc: 0.8882 - val_f1_m: 0.4766 - val_precision_m: 0.7143 - val_recall_m: 0.3618\n",
            "Epoch 3/5\n",
            "5548/5548 [==============================] - 103s 19ms/step - loss: 0.2333 - acc: 0.9036 - f1_m: 0.5901 - precision_m: 0.7503 - recall_m: 0.4918 - val_loss: 0.2716 - val_acc: 0.8886 - val_f1_m: 0.5172 - val_precision_m: 0.6709 - val_recall_m: 0.4229\n",
            "Epoch 4/5\n",
            "5548/5548 [==============================] - 103s 19ms/step - loss: 0.1953 - acc: 0.9201 - f1_m: 0.6831 - precision_m: 0.7849 - recall_m: 0.6074 - val_loss: 0.2781 - val_acc: 0.8882 - val_f1_m: 0.5209 - val_precision_m: 0.6644 - val_recall_m: 0.4310\n",
            "Epoch 5/5\n",
            "5548/5548 [==============================] - 101s 18ms/step - loss: 0.1662 - acc: 0.9338 - f1_m: 0.7453 - precision_m: 0.8245 - recall_m: 0.6829 - val_loss: 0.2910 - val_acc: 0.8878 - val_f1_m: 0.5359 - val_precision_m: 0.6474 - val_recall_m: 0.4608\n",
            "693/693 [==============================] - 1s 2ms/step\n"
          ],
          "name": "stdout"
        }
      ]
    },
    {
      "cell_type": "markdown",
      "metadata": {
        "id": "rEJ4rEPJSzAl",
        "colab_type": "text"
      },
      "source": [
        "# Đánh giá Model"
      ]
    },
    {
      "cell_type": "code",
      "metadata": {
        "id": "ZpsE7i1cDDca",
        "colab_type": "code",
        "colab": {
          "base_uri": "https://localhost:8080/",
          "height": 52
        },
        "outputId": "059f80ce-420b-436f-c7f2-b92299ba7cf2"
      },
      "source": [
        "score = model.evaluate(X_test, y_test, batch_size=batch_size, verbose=1)\n",
        "print('Test metrics:', score)"
      ],
      "execution_count": 57,
      "outputs": [
        {
          "output_type": "stream",
          "text": [
            "693/693 [==============================] - 1s 1ms/step\n",
            "Test metrics: [0.2857225423337405, 0.8843538165092468, 0.5380197167396545, 0.6278846263885498, 0.47328194975852966]\n"
          ],
          "name": "stdout"
        }
      ]
    },
    {
      "cell_type": "code",
      "metadata": {
        "id": "A1DU7YLaDE7A",
        "colab_type": "code",
        "colab": {
          "base_uri": "https://localhost:8080/",
          "height": 284
        },
        "outputId": "dc0a29f9-e413-4513-94f3-3c51ed3b514b"
      },
      "source": [
        "result = y_test.copy()\n",
        "result[['Anger', 'Disgust', 'Enjoyment', 'Fear', 'Other', 'Sadness', 'Surprise']] = predictions\n",
        "result['Emition']=0\n",
        "\n",
        "from sklearn.metrics import classification_report\n",
        "y_pred = np.argmax(np.array(result[['Anger', 'Disgust', 'Enjoyment', 'Fear', 'Other', 'Sadness', 'Surprise']]), axis=1)\n",
        "y_pred_bool= pd.DataFrame({'Emition':y_pred})\n",
        "\n",
        "y_pred_bool.to_csv('result.csv')\n",
        "model_json = model.to_json()\n",
        "with open(\"model_num_bc.json\", \"w\") as json_file:\n",
        "    json_file.write(model_json)\n",
        "model.save_weights(\"model.h5\")\n",
        "\n",
        "print(classification_report(y_test, pd.get_dummies(data=y_pred_bool, columns=['Emition'])))"
      ],
      "execution_count": 58,
      "outputs": [
        {
          "output_type": "stream",
          "text": [
            "              precision    recall  f1-score   support\n",
            "\n",
            "           0       0.47      0.47      0.48        40\n",
            "           1       0.60      0.59      0.60       132\n",
            "           2       0.62      0.64      0.63       193\n",
            "           3       0.58      0.67      0.63        46\n",
            "           4       0.41      0.43      0.42       129\n",
            "           5       0.64      0.53      0.58       116\n",
            "           6       0.44      0.46      0.45        37\n",
            "\n",
            "   micro avg       0.56      0.56      0.56       693\n",
            "   macro avg       0.54      0.54      0.54       693\n",
            "weighted avg       0.56      0.56      0.56       693\n",
            " samples avg       0.56      0.56      0.56       693\n",
            "\n"
          ],
          "name": "stdout"
        }
      ]
    },
    {
      "cell_type": "code",
      "metadata": {
        "id": "RcyocCgODGoY",
        "colab_type": "code",
        "colab": {
          "base_uri": "https://localhost:8080/",
          "height": 621
        },
        "outputId": "690e10f9-9e2c-415b-ed78-c8be39fc923c"
      },
      "source": [
        "# plot loss during training\n",
        "plt.figure(figsize=[10,10])\n",
        "plt.subplot(211)\n",
        "plt.title('Loss')\n",
        "plt.ylabel('loss')\n",
        "plt.xlabel('epoch')\n",
        "plt.plot(history.history['loss'], label='train')\n",
        "plt.plot(history.history['val_loss'], label='test')\n",
        "plt.legend()\n",
        "# plot accuracy during training\n",
        "plt.subplot(212)\n",
        "plt.title('Accuracy')\n",
        "plt.ylabel('accuracy')\n",
        "plt.xlabel('epoch')\n",
        "plt.plot(history.history['acc'], label='train')\n",
        "plt.plot(history.history['val_acc'], label='test')\n",
        "plt.legend()\n",
        "plt.show()"
      ],
      "execution_count": 59,
      "outputs": [
        {
          "output_type": "display_data",
          "data": {
            "image/png": "[encoded data removed]",
            "text/plain": [
              "<Figure size 720x720 with 2 Axes>"
            ]
          },
          "metadata": {
            "tags": [],
            "needs_background": "light"
          }
        }
      ]
    }
  ]
}