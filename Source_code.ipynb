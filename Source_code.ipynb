{
  "nbformat": 4,
  "nbformat_minor": 0,
  "metadata": {
    "colab": {
      "name": "Source_codeNLP.ipynb",
      "provenance": [],
      "collapsed_sections": []
    },
    "kernelspec": {
      "name": "python3",
      "display_name": "Python 3"
    },
    "accelerator": "GPU"
  },
  "cells": [
    {
      "cell_type": "markdown",
      "metadata": {
        "id": "VkZ7kW2IB89H",
        "colab_type": "text"
      },
      "source": [
        "# Học máy"
      ]
    },
    {
      "cell_type": "markdown",
      "metadata": {
        "id": "NjKXn20hSkOG",
        "colab_type": "text"
      },
      "source": [
        "#Import thư viện"
      ]
    },
    {
      "cell_type": "code",
      "metadata": {
        "id": "437WUvVmN7Vs",
        "colab_type": "code",
        "colab": {}
      },
      "source": [
        "import pandas as pd\n",
        "from sklearn.feature_extraction.text import CountVectorizer,TfidfTransformer\n",
        "from sklearn.metrics import accuracy_score, classification_report\n",
        "import nltk\n",
        "import numpy as np\n",
        "import matplotlib.pyplot as plt"
      ],
      "execution_count": 106,
      "outputs": []
    },
    {
      "cell_type": "markdown",
      "metadata": {
        "id": "z6HoYKepSqZw",
        "colab_type": "text"
      },
      "source": [
        "#Đọc dữ liệu từ file exel"
      ]
    },
    {
      "cell_type": "code",
      "metadata": {
        "id": "ND182g7_1EDm",
        "colab_type": "code",
        "colab": {
          "base_uri": "https://localhost:8080/",
          "height": 35
        },
        "outputId": "8d3afc6a-91fb-42dc-d4c1-123c201976e5"
      },
      "source": [
        "import os\n",
        "os.chdir('/content')\n",
        "!git clone https://github.com/NguyenXuanVinh2000/NLP-Classifcation"
      ],
      "execution_count": 73,
      "outputs": [
        {
          "output_type": "stream",
          "text": [
            "fatal: destination path 'NLP-Classifcation' already exists and is not an empty directory.\n"
          ],
          "name": "stdout"
        }
      ]
    },
    {
      "cell_type": "code",
      "metadata": {
        "id": "CC00-S2bOT5y",
        "colab_type": "code",
        "colab": {}
      },
      "source": [
        "xl1 = pd.ExcelFile('/content/NLP-Classifcation/UIT-VSMEC/train_nor_811.xlsx')\n",
        "df_train = pd.read_excel(xl1, 0)\n",
        "xl2 = pd.ExcelFile('/content/NLP-Classifcation/UIT-VSMEC/test_nor_811.xlsx')\n",
        "df_test = pd.read_excel(xl2, 0 )\n",
        "xl3 = pd.ExcelFile('/content/NLP-Classifcation/UIT-VSMEC/valid_nor_811.xlsx')\n",
        "df_valid = pd.read_excel(xl3, 0 )"
      ],
      "execution_count": 74,
      "outputs": []
    },
    {
      "cell_type": "markdown",
      "metadata": {
        "id": "kQZaDBPGSue-",
        "colab_type": "text"
      },
      "source": [
        "#Phân chia biến độc lập X và biến phụ thuộc y"
      ]
    },
    {
      "cell_type": "code",
      "metadata": {
        "id": "yy4k7X77raOm",
        "colab_type": "code",
        "colab": {}
      },
      "source": [
        "X_train = df_train[\"Sentence\"]\n",
        "X_val = df_valid[\"Sentence\"]\n",
        "X_test = df_test[\"Sentence\"]\n",
        "y_train = df_train[\"Emotion\"]\n",
        "y_val = df_valid[\"Emotion\"]\n",
        "y_test = df_test[\"Emotion\"]"
      ],
      "execution_count": 75,
      "outputs": []
    },
    {
      "cell_type": "markdown",
      "metadata": {
        "id": "4BOEV5s7j5M3",
        "colab_type": "text"
      },
      "source": [
        "#Thống kê dữ liệu"
      ]
    },
    {
      "cell_type": "code",
      "metadata": {
        "id": "YH8tvoNbHP27",
        "colab_type": "code",
        "colab": {
          "base_uri": "https://localhost:8080/",
          "height": 159
        },
        "outputId": "684a2a65-a47f-43c9-d943-61d0a1e5fc2a"
      },
      "source": [
        "print(y_train.value_counts())"
      ],
      "execution_count": 76,
      "outputs": [
        {
          "output_type": "stream",
          "text": [
            "Enjoyment    1558\n",
            "Disgust      1071\n",
            "Other        1021\n",
            "Sadness       947\n",
            "Anger         391\n",
            "Fear          318\n",
            "Surprise      242\n",
            "Name: Emotion, dtype: int64\n"
          ],
          "name": "stdout"
        }
      ]
    },
    {
      "cell_type": "code",
      "metadata": {
        "id": "gXLZwwHsH-4g",
        "colab_type": "code",
        "colab": {
          "base_uri": "https://localhost:8080/",
          "height": 159
        },
        "outputId": "3cd561c0-f2f5-4d85-ee7b-fc59ac6b74d2"
      },
      "source": [
        "print(y_test.value_counts())"
      ],
      "execution_count": 77,
      "outputs": [
        {
          "output_type": "stream",
          "text": [
            "Enjoyment    193\n",
            "Disgust      132\n",
            "Other        129\n",
            "Sadness      116\n",
            "Fear          46\n",
            "Anger         40\n",
            "Surprise      37\n",
            "Name: Emotion, dtype: int64\n"
          ],
          "name": "stdout"
        }
      ]
    },
    {
      "cell_type": "code",
      "metadata": {
        "id": "ijvf2TMQH_MY",
        "colab_type": "code",
        "colab": {
          "base_uri": "https://localhost:8080/",
          "height": 159
        },
        "outputId": "dc65f71a-bfe8-4ee9-d1d1-37d569e43b82"
      },
      "source": [
        "print(y_val.value_counts())"
      ],
      "execution_count": 78,
      "outputs": [
        {
          "output_type": "stream",
          "text": [
            "Enjoyment    214\n",
            "Other        141\n",
            "Disgust      135\n",
            "Sadness       86\n",
            "Anger         49\n",
            "Fear          31\n",
            "Surprise      30\n",
            "Name: Emotion, dtype: int64\n"
          ],
          "name": "stdout"
        }
      ]
    },
    {
      "cell_type": "markdown",
      "metadata": {
        "id": "mDD1kZS_USQU",
        "colab_type": "text"
      },
      "source": [
        "#Phân bố các nhãn của bình luận"
      ]
    },
    {
      "cell_type": "code",
      "metadata": {
        "id": "PUvmUSqiZMCr",
        "colab_type": "code",
        "colab": {
          "base_uri": "https://localhost:8080/",
          "height": 460
        },
        "outputId": "4551fd92-7c3f-4b96-8fa3-cff09dbd39de"
      },
      "source": [
        "plt.figure(figsize=(10,20))\n",
        "plt.subplot(311)\n",
        "y_train.value_counts().plot(kind='bar')\n",
        "plt.title('Số lượng bình luận theo từng cung bậc cảm xúc (Train)')\n",
        "plt.xlabel('Cảm xúc')\n",
        "plt.ylabel('Số lượng')"
      ],
      "execution_count": 79,
      "outputs": [
        {
          "output_type": "execute_result",
          "data": {
            "text/plain": [
              "Text(0, 0.5, 'Số lượng')"
            ]
          },
          "metadata": {
            "tags": []
          },
          "execution_count": 79
        },
        {
          "output_type": "display_data",
          "data": {
            "image/png": "[encoded data removed]",
            "text/plain": [
              "<Figure size 720x1440 with 1 Axes>"
            ]
          },
          "metadata": {
            "tags": [],
            "needs_background": "light"
          }
        }
      ]
    },
    {
      "cell_type": "code",
      "metadata": {
        "id": "JTL0pZB_hM_s",
        "colab_type": "code",
        "colab": {
          "base_uri": "https://localhost:8080/",
          "height": 460
        },
        "outputId": "77e2b3ba-f5c8-421f-91f1-6d2f48762141"
      },
      "source": [
        "plt.figure(figsize=(10,20))\n",
        "plt.subplot(312)\n",
        "y_test.value_counts().plot(kind='bar')\n",
        "plt.title('Số lượng bình luận theo từng cung bậc cảm xúc (Test)')\n",
        "plt.xlabel('Cảm xúc')\n",
        "plt.ylabel('Số lượng')"
      ],
      "execution_count": 80,
      "outputs": [
        {
          "output_type": "execute_result",
          "data": {
            "text/plain": [
              "Text(0, 0.5, 'Số lượng')"
            ]
          },
          "metadata": {
            "tags": []
          },
          "execution_count": 80
        },
        {
          "output_type": "display_data",
          "data": {
            "image/png": "[encoded data removed]",
            "text/plain": [
              "<Figure size 720x1440 with 1 Axes>"
            ]
          },
          "metadata": {
            "tags": [],
            "needs_background": "light"
          }
        }
      ]
    },
    {
      "cell_type": "code",
      "metadata": {
        "id": "vOBJ0cPrhO_J",
        "colab_type": "code",
        "colab": {
          "base_uri": "https://localhost:8080/",
          "height": 460
        },
        "outputId": "112c2ab5-5c5c-4d98-9239-9a411d995526"
      },
      "source": [
        "plt.figure(figsize=(10,20))\n",
        "plt.subplot(313)\n",
        "y_val.value_counts().plot(kind='bar')\n",
        "plt.title('Số lượng bình luận theo từng cung bậc cảm xúc (Validation)')\n",
        "plt.xlabel('Cảm xúc')\n",
        "plt.ylabel('Số lượng')"
      ],
      "execution_count": 81,
      "outputs": [
        {
          "output_type": "execute_result",
          "data": {
            "text/plain": [
              "Text(0, 0.5, 'Số lượng')"
            ]
          },
          "metadata": {
            "tags": []
          },
          "execution_count": 81
        },
        {
          "output_type": "display_data",
          "data": {
            "image/png": "[encoded data removed]",
            "text/plain": [
              "<Figure size 720x1440 with 1 Axes>"
            ]
          },
          "metadata": {
            "tags": [],
            "needs_background": "light"
          }
        }
      ]
    },
    {
      "cell_type": "markdown",
      "metadata": {
        "id": "KbIygTADS450",
        "colab_type": "text"
      },
      "source": [
        "#Đánh số cho các nhãn có dạng “không ở dạng số”"
      ]
    },
    {
      "cell_type": "code",
      "metadata": {
        "id": "P8vi0_Donk17",
        "colab_type": "code",
        "colab": {}
      },
      "source": [
        "from sklearn.preprocessing import LabelEncoder\n",
        "le = LabelEncoder()\n",
        "y_train = le.fit_transform(y_train)\n",
        "y_val = le.transform(y_val)\n",
        "y_test = le.transform(y_test)"
      ],
      "execution_count": 82,
      "outputs": []
    },
    {
      "cell_type": "markdown",
      "metadata": {
        "id": "jN-44a7_Tk4k",
        "colab_type": "text"
      },
      "source": [
        "#Huấn luyện model Naive Bayes"
      ]
    },
    {
      "cell_type": "code",
      "metadata": {
        "id": "UPTlmExw68iM",
        "colab_type": "code",
        "colab": {
          "base_uri": "https://localhost:8080/",
          "height": 357
        },
        "outputId": "eda64b19-2819-4c00-8fec-68ccb2b6bcaa"
      },
      "source": [
        "my_tags =['Anger', 'Disgust', 'Enjoyment', 'Fear', 'Other', 'Sadness', 'Surprise']\n",
        "from sklearn.naive_bayes import MultinomialNB\n",
        "from sklearn.pipeline import Pipeline\n",
        "model = Pipeline([('vect', CountVectorizer()),('tfidf', TfidfTransformer()),('clf', MultinomialNB()),])\n",
        "model.fit(X_train,y_train)\n",
        "from sklearn.metrics import classification_report\n",
        "y_pred = model.predict(X_test)\n",
        "val_pred = model.predict(X_val)\n",
        "print('accuracy %s' % accuracy_score(y_test, y_pred))\n",
        "print('accuracy valid %s' % accuracy_score(y_val, val_pred))\n",
        "print(classification_report(y_test, y_pred,target_names=my_tags))"
      ],
      "execution_count": 83,
      "outputs": [
        {
          "output_type": "stream",
          "text": [
            "accuracy 0.4531024531024531\n",
            "accuracy valid 0.47959183673469385\n",
            "              precision    recall  f1-score   support\n",
            "\n",
            "       Anger       0.00      0.00      0.00        40\n",
            "     Disgust       0.47      0.56      0.51       132\n",
            "   Enjoyment       0.41      0.86      0.56       193\n",
            "        Fear       0.00      0.00      0.00        46\n",
            "       Other       0.49      0.29      0.36       129\n",
            "     Sadness       0.65      0.32      0.43       116\n",
            "    Surprise       0.00      0.00      0.00        37\n",
            "\n",
            "    accuracy                           0.45       693\n",
            "   macro avg       0.29      0.29      0.27       693\n",
            "weighted avg       0.40      0.45      0.39       693\n",
            "\n"
          ],
          "name": "stdout"
        },
        {
          "output_type": "stream",
          "text": [
            "/usr/local/lib/python3.6/dist-packages/sklearn/metrics/_classification.py:1272: UndefinedMetricWarning: Precision and F-score are ill-defined and being set to 0.0 in labels with no predicted samples. Use `zero_division` parameter to control this behavior.\n",
            "  _warn_prf(average, modifier, msg_start, len(result))\n"
          ],
          "name": "stderr"
        }
      ]
    },
    {
      "cell_type": "markdown",
      "metadata": {
        "id": "z5o-ea1X6M-p",
        "colab_type": "text"
      },
      "source": [
        "#Confusion matrix test set by Naive Bayes"
      ]
    },
    {
      "cell_type": "code",
      "metadata": {
        "id": "53q4CIlFvWjn",
        "colab_type": "code",
        "colab": {
          "base_uri": "https://localhost:8080/",
          "height": 407
        },
        "outputId": "19882c1a-dbb0-4544-a032-27dc9e6e4afd"
      },
      "source": [
        "from sklearn.metrics import accuracy_score,  precision_score, recall_score, confusion_matrix\n",
        "import seaborn as sn\n",
        "cm = confusion_matrix(y_test, y_pred)\n",
        "print(cm)\n",
        "sn.heatmap(cm, fmt=\"g\" ,cmap=\"Blues\", annot=True,annot_kws={\"size\": 16})"
      ],
      "execution_count": 84,
      "outputs": [
        {
          "output_type": "stream",
          "text": [
            "[[  0  25   6   0   6   3   0]\n",
            " [  0  74  44   0  10   4   0]\n",
            " [  0  13 166   1  10   3   0]\n",
            " [  0   9  29   0   4   4   0]\n",
            " [  0  19  67   0  37   6   0]\n",
            " [  0   9  64   0   6  37   0]\n",
            " [  0   7  27   0   3   0   0]]\n"
          ],
          "name": "stdout"
        },
        {
          "output_type": "execute_result",
          "data": {
            "text/plain": [
              "<matplotlib.axes._subplots.AxesSubplot at 0x7f1c3882d8d0>"
            ]
          },
          "metadata": {
            "tags": []
          },
          "execution_count": 84
        },
        {
          "output_type": "display_data",
          "data": {
            "image/png": "[encoded data removed]",
            "text/plain": [
              "<Figure size 432x288 with 2 Axes>"
            ]
          },
          "metadata": {
            "tags": [],
            "needs_background": "light"
          }
        }
      ]
    },
    {
      "cell_type": "markdown",
      "metadata": {
        "id": "NMKwvKt06TxZ",
        "colab_type": "text"
      },
      "source": [
        "#Confusion matrix validation set by Navie Bayes"
      ]
    },
    {
      "cell_type": "code",
      "metadata": {
        "id": "omh8OMcg6T4x",
        "colab_type": "code",
        "colab": {
          "base_uri": "https://localhost:8080/",
          "height": 407
        },
        "outputId": "54f39490-0f5b-483f-c8ba-6284fa6c236e"
      },
      "source": [
        "from sklearn.metrics import accuracy_score,  precision_score, recall_score, confusion_matrix\n",
        "import seaborn as sn\n",
        "cm = confusion_matrix(y_val, val_pred)\n",
        "print(cm)\n",
        "sn.heatmap(cm, fmt=\"g\" ,cmap=\"Blues\", annot=True,annot_kws={\"size\": 16})"
      ],
      "execution_count": 85,
      "outputs": [
        {
          "output_type": "stream",
          "text": [
            "[[  2  24  12   0   8   3   0]\n",
            " [  1  81  42   0   7   4   0]\n",
            " [  0   9 188   0  10   7   0]\n",
            " [  0   5  23   0   3   0   0]\n",
            " [  0  26  76   0  30   9   0]\n",
            " [  0   6  47   0   5  28   0]\n",
            " [  0   6  20   0   3   1   0]]\n"
          ],
          "name": "stdout"
        },
        {
          "output_type": "execute_result",
          "data": {
            "text/plain": [
              "<matplotlib.axes._subplots.AxesSubplot at 0x7f1c386d8748>"
            ]
          },
          "metadata": {
            "tags": []
          },
          "execution_count": 85
        },
        {
          "output_type": "display_data",
          "data": {
            "image/png": "[encoded data removed]",
            "text/plain": [
              "<Figure size 432x288 with 2 Axes>"
            ]
          },
          "metadata": {
            "tags": [],
            "needs_background": "light"
          }
        }
      ]
    },
    {
      "cell_type": "markdown",
      "metadata": {
        "id": "mcO7_qvGTxMs",
        "colab_type": "text"
      },
      "source": [
        "#Huấn luyện model Support Vector Machine"
      ]
    },
    {
      "cell_type": "code",
      "metadata": {
        "id": "4nXyj3_26teF",
        "colab_type": "code",
        "colab": {
          "base_uri": "https://localhost:8080/",
          "height": 301
        },
        "outputId": "a10f86c2-277f-4a8c-9f6f-1c02d4c51abd"
      },
      "source": [
        "my_tags =['Anger', 'Disgust', 'Enjoyment', 'Fear', 'Other', 'Sadness', 'Surprise']\n",
        "from sklearn.svm import SVC\n",
        "from sklearn.pipeline import Pipeline\n",
        "model = Pipeline([('vect', CountVectorizer()),('tfidf', TfidfTransformer()),('clf', SVC()),])\n",
        "model.fit(X_train,y_train)\n",
        "from sklearn.metrics import classification_report\n",
        "y_pred = model.predict(X_test)\n",
        "val_pred = model.predict(X_val)\n",
        "print('accuracy %s' % accuracy_score(y_test, y_pred))\n",
        "print('accuracy valid %s' % accuracy_score(y_val, val_pred))\n",
        "print(classification_report(y_test, y_pred,target_names=my_tags))"
      ],
      "execution_count": 86,
      "outputs": [
        {
          "output_type": "stream",
          "text": [
            "accuracy 0.5367965367965368\n",
            "accuracy valid 0.5349854227405247\n",
            "              precision    recall  f1-score   support\n",
            "\n",
            "       Anger       0.54      0.17      0.26        40\n",
            "     Disgust       0.51      0.64      0.56       132\n",
            "   Enjoyment       0.51      0.73      0.60       193\n",
            "        Fear       0.91      0.46      0.61        46\n",
            "       Other       0.47      0.47      0.47       129\n",
            "     Sadness       0.65      0.47      0.55       116\n",
            "    Surprise       0.83      0.14      0.23        37\n",
            "\n",
            "    accuracy                           0.54       693\n",
            "   macro avg       0.63      0.44      0.47       693\n",
            "weighted avg       0.57      0.54      0.52       693\n",
            "\n"
          ],
          "name": "stdout"
        }
      ]
    },
    {
      "cell_type": "markdown",
      "metadata": {
        "id": "9BDaAuHX6Dk4",
        "colab_type": "text"
      },
      "source": [
        "#Confusion matrix test set by SVM"
      ]
    },
    {
      "cell_type": "code",
      "metadata": {
        "id": "_oq3bPDgvYK1",
        "colab_type": "code",
        "colab": {
          "base_uri": "https://localhost:8080/",
          "height": 412
        },
        "outputId": "388154f7-93ea-4fe5-d45e-6331f5ef4257"
      },
      "source": [
        "from sklearn.metrics import accuracy_score,  precision_score, recall_score, confusion_matrix\n",
        "import seaborn as sn\n",
        "cm = confusion_matrix(y_test, y_pred)\n",
        "print(cm)\n",
        "sn.heatmap(cm, fmt=\"g\" ,cmap=\"Blues\", annot=True,annot_kws={\"size\": 16})"
      ],
      "execution_count": 87,
      "outputs": [
        {
          "output_type": "stream",
          "text": [
            "[[  7  19   4   0   7   3   0]\n",
            " [  3  84  29   1   8   7   0]\n",
            " [  1  16 140   1  26   9   0]\n",
            " [  0   8   9  21   4   4   0]\n",
            " [  0  22  40   0  60   6   1]\n",
            " [  2  12  36   0  11  55   0]\n",
            " [  0   5  15   0  11   1   5]]\n"
          ],
          "name": "stdout"
        },
        {
          "output_type": "execute_result",
          "data": {
            "text/plain": [
              "<matplotlib.axes._subplots.AxesSubplot at 0x7f1c38562278>"
            ]
          },
          "metadata": {
            "tags": []
          },
          "execution_count": 87
        },
        {
          "output_type": "display_data",
          "data": {
            "image/png": "[encoded data removed]",
            "text/plain": [
              "<Figure size 432x288 with 2 Axes>"
            ]
          },
          "metadata": {
            "tags": [],
            "needs_background": "light"
          }
        }
      ]
    },
    {
      "cell_type": "markdown",
      "metadata": {
        "id": "bXxGzqLA7P7j",
        "colab_type": "text"
      },
      "source": [
        "#Confusion matrix validation by SVM"
      ]
    },
    {
      "cell_type": "code",
      "metadata": {
        "id": "DdRb2hsL6CMy",
        "colab_type": "code",
        "colab": {
          "base_uri": "https://localhost:8080/",
          "height": 409
        },
        "outputId": "74538c8a-5cfa-4e63-d5d9-baafb2191c8c"
      },
      "source": [
        "from sklearn.metrics import accuracy_score,  precision_score, recall_score, confusion_matrix\n",
        "import seaborn as sn\n",
        "cm = confusion_matrix(y_val, val_pred)\n",
        "print(cm)\n",
        "sn.heatmap(cm, fmt=\"g\" ,cmap=\"Blues\", annot=True,annot_kws={\"size\": 16})"
      ],
      "execution_count": 88,
      "outputs": [
        {
          "output_type": "stream",
          "text": [
            "[[ 12  19   7   0   6   5   0]\n",
            " [  1  85  19   1  20   9   0]\n",
            " [  2  15 162   0  20  14   1]\n",
            " [  1   4   6  15   3   2   0]\n",
            " [  2  23  49   2  50  14   1]\n",
            " [  2   8  25   0   9  41   1]\n",
            " [  0   6  14   0   6   2   2]]\n"
          ],
          "name": "stdout"
        },
        {
          "output_type": "execute_result",
          "data": {
            "text/plain": [
              "<matplotlib.axes._subplots.AxesSubplot at 0x7f1c3850e3c8>"
            ]
          },
          "metadata": {
            "tags": []
          },
          "execution_count": 88
        },
        {
          "output_type": "display_data",
          "data": {
            "image/png": "[encoded data removed]",
            "text/plain": [
              "<Figure size 432x288 with 2 Axes>"
            ]
          },
          "metadata": {
            "tags": [],
            "needs_background": "light"
          }
        }
      ]
    },
    {
      "cell_type": "markdown",
      "metadata": {
        "id": "x8YhgsRsCBxY",
        "colab_type": "text"
      },
      "source": [
        "#Học sâu"
      ]
    },
    {
      "cell_type": "markdown",
      "metadata": {
        "id": "nzOsToM4SS1R",
        "colab_type": "text"
      },
      "source": [
        "#Import thư viện"
      ]
    },
    {
      "cell_type": "code",
      "metadata": {
        "id": "6sBBk9phCF3p",
        "colab_type": "code",
        "colab": {}
      },
      "source": [
        "import numpy as np\n",
        "import pandas as pd\n",
        "from keras.layers import Dense, Input, LSTM, Bidirectional, Conv1D\n",
        "from keras.layers import Dropout, Embedding\n",
        "from keras.preprocessing import text, sequence\n",
        "from keras.layers import GlobalMaxPooling1D, GlobalAveragePooling1D, concatenate, SpatialDropout1D\n",
        "from keras.models import Model\n",
        "from keras import backend as K\n",
        "from keras.models import model_from_json\n",
        "from keras.models import load_model\n",
        "import matplotlib.pyplot as plt"
      ],
      "execution_count": 89,
      "outputs": []
    },
    {
      "cell_type": "markdown",
      "metadata": {
        "id": "5c49qQ3WSWRk",
        "colab_type": "text"
      },
      "source": [
        "#Đọc dữ liệu"
      ]
    },
    {
      "cell_type": "code",
      "metadata": {
        "id": "kn3NNvawFJKT",
        "colab_type": "code",
        "colab": {}
      },
      "source": [
        "X_train = df_train[\"Sentence\"]\n",
        "X_val = df_valid[\"Sentence\"]\n",
        "X_test = df_test[\"Sentence\"]\n",
        "y_train = df_train[\"Emotion\"]\n",
        "y_val = df_valid[\"Emotion\"]\n",
        "y_test = df_test[\"Emotion\"]"
      ],
      "execution_count": 90,
      "outputs": []
    },
    {
      "cell_type": "markdown",
      "metadata": {
        "id": "vVv1gqsaSZc9",
        "colab_type": "text"
      },
      "source": [
        "# Tải model Pretrained model Word2Vec"
      ]
    },
    {
      "cell_type": "code",
      "metadata": {
        "id": "oHCgUHdkCm8B",
        "colab_type": "code",
        "colab": {
          "base_uri": "https://localhost:8080/",
          "height": 35
        },
        "outputId": "e5895f53-b341-4000-a10f-6d220f156720"
      },
      "source": [
        "import requests\n",
        "url='https://dl.fbaipublicfiles.com/fasttext/vectors-crawl/cc.vi.300.vec.gz'\n",
        "r = requests.get(url, allow_redirects=True)\n",
        "\n",
        "open('cc.vi.300.vec.gz','wb').write(r.content)"
      ],
      "execution_count": 91,
      "outputs": [
        {
          "output_type": "execute_result",
          "data": {
            "text/plain": [
              "1235219084"
            ]
          },
          "metadata": {
            "tags": []
          },
          "execution_count": 91
        }
      ]
    },
    {
      "cell_type": "markdown",
      "metadata": {
        "id": "cEfrU5gqSdXd",
        "colab_type": "text"
      },
      "source": [
        "# extract file gzip chứa model Word2Vec"
      ]
    },
    {
      "cell_type": "code",
      "metadata": {
        "id": "PuLridh2CpFQ",
        "colab_type": "code",
        "colab": {}
      },
      "source": [
        "import gzip\n",
        "\n",
        "def gunzip(source_filepath, dest_filepath, block_size=65536):\n",
        "    with gzip.open(source_filepath, 'rb') as s_file, \\\n",
        "            open(dest_filepath, 'wb') as d_file:\n",
        "        while True:\n",
        "            block = s_file.read(block_size)\n",
        "            if not block:\n",
        "                break\n",
        "            else:\n",
        "                d_file.write(block)\n",
        "gunzip('/content/cc.vi.300.vec.gz','/content/cc.vi.300.vec')"
      ],
      "execution_count": 92,
      "outputs": []
    },
    {
      "cell_type": "code",
      "metadata": {
        "id": "BjVFZhMuCq1I",
        "colab_type": "code",
        "colab": {}
      },
      "source": [
        "EMBEDDING_FILE = '/content/cc.vi.300.vec'"
      ],
      "execution_count": 93,
      "outputs": []
    },
    {
      "cell_type": "code",
      "metadata": {
        "id": "VI9LH9_FNU2o",
        "colab_type": "code",
        "colab": {}
      },
      "source": [
        "y_train=pd.get_dummies(data=y_train)\n",
        "y_val=pd.get_dummies(data=y_val)\n",
        "y_test=pd.get_dummies(data=y_test)"
      ],
      "execution_count": 94,
      "outputs": []
    },
    {
      "cell_type": "code",
      "metadata": {
        "id": "_B13llk6QuKj",
        "colab_type": "code",
        "colab": {
          "base_uri": "https://localhost:8080/",
          "height": 194
        },
        "outputId": "8d257635-c6f3-4fba-c3f2-b48fac3bb695"
      },
      "source": [
        "y_train.head(5)"
      ],
      "execution_count": 95,
      "outputs": [
        {
          "output_type": "execute_result",
          "data": {
            "text/html": [
              "<div>\n",
              "<style scoped>\n",
              "    .dataframe tbody tr th:only-of-type {\n",
              "        vertical-align: middle;\n",
              "    }\n",
              "\n",
              "    .dataframe tbody tr th {\n",
              "        vertical-align: top;\n",
              "    }\n",
              "\n",
              "    .dataframe thead th {\n",
              "        text-align: right;\n",
              "    }\n",
              "</style>\n",
              "<table border=\"1\" class=\"dataframe\">\n",
              "  <thead>\n",
              "    <tr style=\"text-align: right;\">\n",
              "      <th></th>\n",
              "      <th>Anger</th>\n",
              "      <th>Disgust</th>\n",
              "      <th>Enjoyment</th>\n",
              "      <th>Fear</th>\n",
              "      <th>Other</th>\n",
              "      <th>Sadness</th>\n",
              "      <th>Surprise</th>\n",
              "    </tr>\n",
              "  </thead>\n",
              "  <tbody>\n",
              "    <tr>\n",
              "      <th>0</th>\n",
              "      <td>0</td>\n",
              "      <td>0</td>\n",
              "      <td>0</td>\n",
              "      <td>0</td>\n",
              "      <td>1</td>\n",
              "      <td>0</td>\n",
              "      <td>0</td>\n",
              "    </tr>\n",
              "    <tr>\n",
              "      <th>1</th>\n",
              "      <td>0</td>\n",
              "      <td>1</td>\n",
              "      <td>0</td>\n",
              "      <td>0</td>\n",
              "      <td>0</td>\n",
              "      <td>0</td>\n",
              "      <td>0</td>\n",
              "    </tr>\n",
              "    <tr>\n",
              "      <th>2</th>\n",
              "      <td>0</td>\n",
              "      <td>1</td>\n",
              "      <td>0</td>\n",
              "      <td>0</td>\n",
              "      <td>0</td>\n",
              "      <td>0</td>\n",
              "      <td>0</td>\n",
              "    </tr>\n",
              "    <tr>\n",
              "      <th>3</th>\n",
              "      <td>0</td>\n",
              "      <td>0</td>\n",
              "      <td>1</td>\n",
              "      <td>0</td>\n",
              "      <td>0</td>\n",
              "      <td>0</td>\n",
              "      <td>0</td>\n",
              "    </tr>\n",
              "    <tr>\n",
              "      <th>4</th>\n",
              "      <td>0</td>\n",
              "      <td>0</td>\n",
              "      <td>1</td>\n",
              "      <td>0</td>\n",
              "      <td>0</td>\n",
              "      <td>0</td>\n",
              "      <td>0</td>\n",
              "    </tr>\n",
              "  </tbody>\n",
              "</table>\n",
              "</div>"
            ],
            "text/plain": [
              "   Anger  Disgust  Enjoyment  Fear  Other  Sadness  Surprise\n",
              "0      0        0          0     0      1        0         0\n",
              "1      0        1          0     0      0        0         0\n",
              "2      0        1          0     0      0        0         0\n",
              "3      0        0          1     0      0        0         0\n",
              "4      0        0          1     0      0        0         0"
            ]
          },
          "metadata": {
            "tags": []
          },
          "execution_count": 95
        }
      ]
    },
    {
      "cell_type": "markdown",
      "metadata": {
        "id": "RpcJRLMeSg7-",
        "colab_type": "text"
      },
      "source": [
        "# Tiền xử lý dữ liệu"
      ]
    },
    {
      "cell_type": "code",
      "metadata": {
        "id": "DqkUs4mJC1ub",
        "colab_type": "code",
        "colab": {}
      },
      "source": [
        "max_features=2489\n",
        "maxlen=150\n",
        "embed_size=300"
      ],
      "execution_count": 96,
      "outputs": []
    },
    {
      "cell_type": "markdown",
      "metadata": {
        "id": "m47MpiqElqZn",
        "colab_type": "text"
      },
      "source": [
        "#Trích xuất đặc trưng"
      ]
    },
    {
      "cell_type": "code",
      "metadata": {
        "id": "Vq6JuBa0C2MY",
        "colab_type": "code",
        "colab": {}
      },
      "source": [
        "tokenizer = text.Tokenizer(num_words=max_features, lower=True, filters='!\"#$%&()*+,-./:;<=>?@[\\\\]^`{|}~\\t\\n')\n",
        "tokenizer.fit_on_texts(list(X_train))"
      ],
      "execution_count": 97,
      "outputs": []
    },
    {
      "cell_type": "code",
      "metadata": {
        "id": "J_J9G8ItC3eZ",
        "colab_type": "code",
        "colab": {}
      },
      "source": [
        "X_train = tokenizer.texts_to_sequences(X_train)\n",
        "X_test = tokenizer.texts_to_sequences(X_test)\n",
        "X_val = tokenizer.texts_to_sequences(X_val)"
      ],
      "execution_count": 98,
      "outputs": []
    },
    {
      "cell_type": "code",
      "metadata": {
        "id": "uKtwUG8TC5qA",
        "colab_type": "code",
        "colab": {
          "base_uri": "https://localhost:8080/",
          "height": 35
        },
        "outputId": "4cfb86d1-269e-4413-ac0f-2118251318d4"
      },
      "source": [
        "X_train = sequence.pad_sequences(X_train, maxlen=maxlen)\n",
        "X_test = sequence.pad_sequences(X_test, maxlen=maxlen)\n",
        "X_val = sequence.pad_sequences(X_val, maxlen=maxlen)\n",
        "print(\"create vector\")"
      ],
      "execution_count": 99,
      "outputs": [
        {
          "output_type": "stream",
          "text": [
            "create vector\n"
          ],
          "name": "stdout"
        }
      ]
    },
    {
      "cell_type": "code",
      "metadata": {
        "id": "m4po3RgCC7Fi",
        "colab_type": "code",
        "colab": {}
      },
      "source": [
        "embeddings_index = {}\n",
        "with open(EMBEDDING_FILE, encoding='utf8') as f:\n",
        "    for line in f:\n",
        "        values = line.rstrip().rsplit(' ')\n",
        "        word = values[0]\n",
        "        coefs = np.asarray(values[1:], dtype='float32')\n",
        "        embeddings_index[word] = coefs\n",
        "\n",
        "word_index = tokenizer.word_index\n",
        "num_words = min(max_features, len(word_index) + 1)\n",
        "embedding_matrix = np.zeros((num_words, embed_size))"
      ],
      "execution_count": 100,
      "outputs": []
    },
    {
      "cell_type": "code",
      "metadata": {
        "id": "1uQYK_GKC8n4",
        "colab_type": "code",
        "colab": {}
      },
      "source": [
        "for word, i in word_index.items():\n",
        "    if i >= max_features:\n",
        "        continue\n",
        "  \n",
        "    embedding_vector = embeddings_index.get(word)\n",
        "    if embedding_vector is not None:\n",
        "        embedding_matrix[i] = embedding_vector"
      ],
      "execution_count": 101,
      "outputs": []
    },
    {
      "cell_type": "code",
      "metadata": {
        "id": "DOEQy9GiC-GJ",
        "colab_type": "code",
        "colab": {}
      },
      "source": [
        "def recall_m(y_true, y_pred):\n",
        "    true_positives = K.sum(K.round(K.clip(y_true * y_pred, 0, 1)))\n",
        "    possible_positives = K.sum(K.round(K.clip(y_true, 0, 1)))\n",
        "    recall = true_positives / (possible_positives + K.epsilon())\n",
        "    return recall\n",
        "\n",
        "def precision_m(y_true, y_pred):\n",
        "    true_positives = K.sum(K.round(K.clip(y_true * y_pred, 0, 1)))\n",
        "    predicted_positives = K.sum(K.round(K.clip(y_pred, 0, 1)))\n",
        "    precision = true_positives / (predicted_positives + K.epsilon())\n",
        "    return precision\n",
        "\n",
        "def f1_m(y_true, y_pred):\n",
        "    precision = precision_m(y_true, y_pred)\n",
        "    recall = recall_m(y_true, y_pred)\n",
        "    return 2*((precision*recall)/(precision+recall+K.epsilon()))"
      ],
      "execution_count": 102,
      "outputs": []
    },
    {
      "cell_type": "markdown",
      "metadata": {
        "id": "UJXa-oT8SvQ-",
        "colab_type": "text"
      },
      "source": [
        "# Tạo và training model với Bi-LSTM"
      ]
    },
    {
      "cell_type": "code",
      "metadata": {
        "id": "-G1Q3VxWC_1h",
        "colab_type": "code",
        "colab": {}
      },
      "source": [
        "inp = Input(shape=(maxlen,))\n",
        "\n",
        "x = Embedding(max_features, embed_size, weights=[embedding_matrix], trainable=True)(inp)\n",
        "x = SpatialDropout1D(0.35)(x)\n",
        "\n",
        "x = Bidirectional(LSTM(128, return_sequences=True, dropout=0.15, recurrent_dropout=0.15))(x)\n",
        "x = Conv1D(64, kernel_size=3, padding='valid', kernel_initializer='glorot_uniform')(x)\n",
        "\n",
        "avg_pool = GlobalAveragePooling1D()(x)\n",
        "max_pool = GlobalMaxPooling1D()(x)\n",
        "x = concatenate([avg_pool, max_pool])\n",
        "\n",
        "out = Dense(7, activation='sigmoid')(x)\n",
        "\n",
        "model = Model(inp, out)\n",
        "model.compile(optimizer='adam', loss='binary_crossentropy', metrics=['acc',f1_m,precision_m, recall_m])"
      ],
      "execution_count": 103,
      "outputs": []
    },
    {
      "cell_type": "code",
      "metadata": {
        "id": "uuKOK8wlDBuT",
        "colab_type": "code",
        "colab": {
          "base_uri": "https://localhost:8080/",
          "height": 286
        },
        "outputId": "4bb99fc8-901b-4eaa-8f44-2af014d7fad1"
      },
      "source": [
        "batch_size = 32\n",
        "epochs =5\n",
        "\n",
        "history = model.fit(X_train, y_train, validation_data=(X_val, y_val), batch_size=batch_size, epochs=epochs, verbose=1)\n",
        "predictions = model.predict(X_test, batch_size=batch_size, verbose=1)"
      ],
      "execution_count": 104,
      "outputs": [
        {
          "output_type": "stream",
          "text": [
            "/usr/local/lib/python3.6/dist-packages/tensorflow/python/framework/indexed_slices.py:434: UserWarning: Converting sparse IndexedSlices to a dense Tensor of unknown shape. This may consume a large amount of memory.\n",
            "  \"Converting sparse IndexedSlices to a dense Tensor of unknown shape. \"\n"
          ],
          "name": "stderr"
        },
        {
          "output_type": "stream",
          "text": [
            "Train on 5548 samples, validate on 686 samples\n",
            "Epoch 1/5\n",
            "5548/5548 [==============================] - 111s 20ms/step - loss: 0.3745 - acc: 0.8579 - f1_m: 0.0886 - precision_m: 0.3646 - recall_m: 0.0547 - val_loss: 0.3123 - val_acc: 0.8759 - val_f1_m: 0.2971 - val_precision_m: 0.7686 - val_recall_m: 0.1877\n",
            "Epoch 2/5\n",
            "5548/5548 [==============================] - 111s 20ms/step - loss: 0.2864 - acc: 0.8833 - f1_m: 0.4284 - precision_m: 0.7084 - recall_m: 0.3123 - val_loss: 0.2740 - val_acc: 0.8865 - val_f1_m: 0.4448 - val_precision_m: 0.7276 - val_recall_m: 0.3231\n",
            "Epoch 3/5\n",
            "5548/5548 [==============================] - 111s 20ms/step - loss: 0.2354 - acc: 0.9044 - f1_m: 0.5905 - precision_m: 0.7540 - recall_m: 0.4896 - val_loss: 0.2681 - val_acc: 0.8882 - val_f1_m: 0.5015 - val_precision_m: 0.6789 - val_recall_m: 0.3994\n",
            "Epoch 4/5\n",
            "5548/5548 [==============================] - 111s 20ms/step - loss: 0.1983 - acc: 0.9209 - f1_m: 0.6867 - precision_m: 0.7906 - recall_m: 0.6105 - val_loss: 0.2716 - val_acc: 0.8859 - val_f1_m: 0.5265 - val_precision_m: 0.6404 - val_recall_m: 0.4495\n",
            "Epoch 5/5\n",
            "5548/5548 [==============================] - 110s 20ms/step - loss: 0.1695 - acc: 0.9324 - f1_m: 0.7391 - precision_m: 0.8181 - recall_m: 0.6770 - val_loss: 0.3060 - val_acc: 0.8825 - val_f1_m: 0.5300 - val_precision_m: 0.6132 - val_recall_m: 0.4683\n",
            "693/693 [==============================] - 1s 2ms/step\n"
          ],
          "name": "stdout"
        }
      ]
    },
    {
      "cell_type": "markdown",
      "metadata": {
        "id": "rEJ4rEPJSzAl",
        "colab_type": "text"
      },
      "source": [
        "# Đánh giá Model"
      ]
    },
    {
      "cell_type": "code",
      "metadata": {
        "id": "ZpsE7i1cDDca",
        "colab_type": "code",
        "colab": {
          "base_uri": "https://localhost:8080/",
          "height": 52
        },
        "outputId": "f51dea55-363b-419e-d303-f3319ee7d2e8"
      },
      "source": [
        "score = model.evaluate(X_test, y_test, batch_size=batch_size, verbose=1)\n",
        "print('Test metrics:', score)"
      ],
      "execution_count": 105,
      "outputs": [
        {
          "output_type": "stream",
          "text": [
            "693/693 [==============================] - 1s 2ms/step\n",
            "Test metrics: [0.29156932406783276, 0.8847660422325134, 0.5470080971717834, 0.6201836466789246, 0.490327388048172]\n"
          ],
          "name": "stdout"
        }
      ]
    },
    {
      "cell_type": "code",
      "metadata": {
        "id": "A1DU7YLaDE7A",
        "colab_type": "code",
        "colab": {
          "base_uri": "https://localhost:8080/",
          "height": 284
        },
        "outputId": "562c211a-cc7a-46b6-bc87-7cd35a16ebc3"
      },
      "source": [
        "result = y_test.copy()\n",
        "result[['Anger', 'Disgust', 'Enjoyment', 'Fear', 'Other', 'Sadness', 'Surprise']] = predictions\n",
        "result['Emition']=0\n",
        "\n",
        "from sklearn.metrics import classification_report\n",
        "y_pred = np.argmax(np.array(result[['Anger', 'Disgust', 'Enjoyment', 'Fear', 'Other', 'Sadness', 'Surprise']]), axis=1)\n",
        "y_pred_bool= pd.DataFrame({'Emition':y_pred})\n",
        "\n",
        "y_pred_bool.to_csv('result.csv')\n",
        "model_json = model.to_json()\n",
        "with open(\"model_num_bc.json\", \"w\") as json_file:\n",
        "    json_file.write(model_json)\n",
        "model.save_weights(\"model.h5\")\n",
        "\n",
        "print(classification_report(y_test, pd.get_dummies(data=y_pred_bool, columns=['Emition'])))"
      ],
      "execution_count": 107,
      "outputs": [
        {
          "output_type": "stream",
          "text": [
            "              precision    recall  f1-score   support\n",
            "\n",
            "           0       0.46      0.60      0.52        40\n",
            "           1       0.57      0.50      0.53       132\n",
            "           2       0.68      0.61      0.64       193\n",
            "           3       0.66      0.76      0.71        46\n",
            "           4       0.45      0.47      0.46       129\n",
            "           5       0.59      0.68      0.63       116\n",
            "           6       0.50      0.49      0.49        37\n",
            "\n",
            "   micro avg       0.58      0.58      0.58       693\n",
            "   macro avg       0.56      0.59      0.57       693\n",
            "weighted avg       0.58      0.58      0.58       693\n",
            " samples avg       0.58      0.58      0.58       693\n",
            "\n"
          ],
          "name": "stdout"
        }
      ]
    },
    {
      "cell_type": "code",
      "metadata": {
        "id": "RcyocCgODGoY",
        "colab_type": "code",
        "colab": {
          "base_uri": "https://localhost:8080/",
          "height": 621
        },
        "outputId": "7395ea65-1bd1-40bc-fbe5-996a37a193ab"
      },
      "source": [
        "# plot loss during training\n",
        "plt.figure(figsize=[10,10])\n",
        "plt.subplot(211)\n",
        "plt.title('Loss')\n",
        "plt.ylabel('loss')\n",
        "plt.xlabel('epoch')\n",
        "plt.plot(history.history['loss'], label='train')\n",
        "plt.plot(history.history['val_loss'], label='test')\n",
        "plt.legend()\n",
        "# plot accuracy during training\n",
        "plt.subplot(212)\n",
        "plt.title('Accuracy')\n",
        "plt.ylabel('accuracy')\n",
        "plt.xlabel('epoch')\n",
        "plt.plot(history.history['acc'], label='train')\n",
        "plt.plot(history.history['val_acc'], label='test')\n",
        "plt.legend()\n",
        "plt.show()"
      ],
      "execution_count": 108,
      "outputs": [
        {
          "output_type": "display_data",
          "data": {
            "image/png": "[encoded data removed]",
            "text/plain": [
              "<Figure size 720x720 with 2 Axes>"
            ]
          },
          "metadata": {
            "tags": [],
            "needs_background": "light"
          }
        }
      ]
    }
  ]
}